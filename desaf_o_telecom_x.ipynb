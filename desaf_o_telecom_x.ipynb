{
  "nbformat": 4,
  "nbformat_minor": 0,
  "metadata": {
    "colab": {
      "provenance": [],
      "authorship_tag": "ABX9TyOyr9ENXVeVVk3eltvtLRxT",
      "include_colab_link": true
    },
    "kernelspec": {
      "name": "python3",
      "display_name": "Python 3"
    },
    "language_info": {
      "name": "python"
    }
  },
  "cells": [
    {
      "cell_type": "markdown",
      "metadata": {
        "id": "view-in-github",
        "colab_type": "text"
      },
      "source": [
        "<a href=\"https://colab.research.google.com/github/Junior11995/Challenge-Telecom-X-an-lisis-de-evasi-n-de-clientes/blob/main/desaf_o_telecom_x.ipynb\" target=\"_parent\"><img src=\"https://colab.research.google.com/assets/colab-badge.svg\" alt=\"Open In Colab\"/></a>"
      ]
    },
    {
      "cell_type": "markdown",
      "source": [
        "#  Encabezado y librerías\n",
        "\n",
        "\n"
      ],
      "metadata": {
        "id": "cfHnHQdMqTCG"
      }
    },
    {
      "cell_type": "code",
      "source": [
        "# --- Encabezado ---\n",
        "# =========================================================\n",
        "# 0) ENCABEZADO / CONFIG\n",
        "# =========================================================\n",
        "PROYECTO = \"Telecom X - Churn\"\n",
        "AUTOR = \"Junior Valera\"\n",
        "REPO = \"https://github.com/Junior11995/Challenge-Telecom-X-an-lisis-de-evasi-n-de-clientes\"\n",
        "\n",
        "import pandas as pd\n",
        "import numpy as np\n",
        "import matplotlib.pyplot as plt\n",
        "import requests\n",
        "from pandas import json_normalize\n",
        "\n",
        "pd.set_option(\"display.max_columns\", None)\n",
        "pd.set_option(\"display.float_format\", lambda x: f\"{x:,.2f}\")\n",
        "\n",
        "def normalize_columns(cols: pd.Index) -> pd.Index:\n",
        "    return (cols\n",
        "            .str.strip().str.lower()\n",
        "            .str.replace(r\"\\s+\", \"_\", regex=True)\n",
        "            .str.normalize(\"NFKD\").str.encode(\"ascii\", errors=\"ignore\").str.decode(\"utf-8\"))\n",
        "\n",
        "def quality_report(df: pd.DataFrame) -> pd.DataFrame:\n",
        "    rep = pd.DataFrame({\n",
        "        \"dtype\": df.dtypes.astype(str),\n",
        "        \"n_null\": df.isna().sum(),\n",
        "        \"pct_null\": df.isna().mean().round(4),\n",
        "        \"n_unique\": df.nunique(dropna=True)\n",
        "    })\n",
        "    rep[\"example_values\"] = [df[c].dropna().unique()[:5] for c in df.columns]\n",
        "    return rep\n",
        "\n",
        "print(PROYECTO, AUTOR, REPO)\n",
        "\n"
      ],
      "metadata": {
        "id": "TwsXSvJrpT2g",
        "outputId": "76a51e5a-3574-4067-c693-4d3ce3831e79",
        "colab": {
          "base_uri": "https://localhost:8080/"
        }
      },
      "execution_count": 1,
      "outputs": [
        {
          "output_type": "stream",
          "name": "stdout",
          "text": [
            "Telecom X - Churn Junior https://github.com/Junior11995/Challenge-Telecom-X-an-lisis-de-evasi-n-de-clientes\n"
          ]
        }
      ]
    },
    {
      "cell_type": "code",
      "source": [],
      "metadata": {
        "id": "d2woKwbzqm-0"
      },
      "execution_count": null,
      "outputs": []
    }
  ]
}